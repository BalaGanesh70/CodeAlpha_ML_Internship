{
 "cells": [
  {
   "cell_type": "code",
   "execution_count": 1,
   "metadata": {},
   "outputs": [],
   "source": [
    "import pandas as pd\n",
    "import numpy as np\n",
    "from sklearn.model_selection import train_test_split\n",
    "from sklearn.preprocessing import StandardScaler, LabelEncoder\n",
    "from sklearn.metrics import classification_report, accuracy_score\n",
    "from sklearn.linear_model import LogisticRegression\n",
    "from sklearn.ensemble import RandomForestClassifier\n",
    "from sklearn.model_selection import GridSearchCV, RandomizedSearchCV\n",
    "import matplotlib.pyplot as plt\n",
    "import seaborn as sns"
   ]
  },
  {
   "cell_type": "code",
   "execution_count": 2,
   "metadata": {},
   "outputs": [
    {
     "name": "stdout",
     "output_type": "stream",
     "text": [
      "<class 'pandas.core.frame.DataFrame'>\n",
      "RangeIndex: 4024 entries, 0 to 4023\n",
      "Data columns (total 16 columns):\n",
      " #   Column                  Non-Null Count  Dtype \n",
      "---  ------                  --------------  ----- \n",
      " 0   Age                     4024 non-null   int64 \n",
      " 1   Race                    4024 non-null   object\n",
      " 2   Marital Status          4024 non-null   object\n",
      " 3   T Stage                 4024 non-null   object\n",
      " 4   N Stage                 4024 non-null   object\n",
      " 5   6th Stage               4024 non-null   object\n",
      " 6   differentiate           4024 non-null   object\n",
      " 7   Grade                   4024 non-null   object\n",
      " 8   A Stage                 4024 non-null   object\n",
      " 9   Tumor Size              4024 non-null   int64 \n",
      " 10  Estrogen Status         4024 non-null   object\n",
      " 11  Progesterone Status     4024 non-null   object\n",
      " 12  Regional Node Examined  4024 non-null   int64 \n",
      " 13  Reginol Node Positive   4024 non-null   int64 \n",
      " 14  Survival Months         4024 non-null   int64 \n",
      " 15  Status                  4024 non-null   object\n",
      "dtypes: int64(5), object(11)\n",
      "memory usage: 503.1+ KB\n",
      "None\n",
      "   Age   Race Marital Status T Stage  N Stage 6th Stage  \\\n",
      "0   68  White        Married       T1      N1       IIA   \n",
      "1   50  White        Married       T2      N2      IIIA   \n",
      "2   58  White       Divorced       T3      N3      IIIC   \n",
      "3   58  White        Married       T1      N1       IIA   \n",
      "4   47  White        Married       T2      N1       IIB   \n",
      "\n",
      "               differentiate Grade   A Stage  Tumor Size Estrogen Status  \\\n",
      "0      Poorly differentiated     3  Regional           4        Positive   \n",
      "1  Moderately differentiated     2  Regional          35        Positive   \n",
      "2  Moderately differentiated     2  Regional          63        Positive   \n",
      "3      Poorly differentiated     3  Regional          18        Positive   \n",
      "4      Poorly differentiated     3  Regional          41        Positive   \n",
      "\n",
      "  Progesterone Status  Regional Node Examined  Reginol Node Positive  \\\n",
      "0            Positive                      24                      1   \n",
      "1            Positive                      14                      5   \n",
      "2            Positive                      14                      7   \n",
      "3            Positive                       2                      1   \n",
      "4            Positive                       3                      1   \n",
      "\n",
      "   Survival Months Status  \n",
      "0               60  Alive  \n",
      "1               62  Alive  \n",
      "2               75  Alive  \n",
      "3               84  Alive  \n",
      "4               50  Alive  \n"
     ]
    }
   ],
   "source": [
    "# Load the dataset\n",
    "df = pd.read_csv('breast_cancer.csv')\n",
    "\n",
    "# Display basic information about the dataset\n",
    "print(df.info())\n",
    "print(df.head())\n",
    "\n",
    "# Handle missing values if any\n",
    "df = df.dropna()"
   ]
  },
  {
   "cell_type": "code",
   "execution_count": 3,
   "metadata": {},
   "outputs": [],
   "source": [
    "# Encode categorical variables\n",
    "label_encoders = {}\n",
    "for column in df.select_dtypes(include=['object']).columns:\n",
    "    le = LabelEncoder()\n",
    "    df[column] = le.fit_transform(df[column])\n",
    "    label_encoders[column] = le\n",
    "\n",
    "# Define features and target variable\n",
    "X = df.drop('Status', axis=1)\n",
    "y = df['Status']"
   ]
  },
  {
   "cell_type": "code",
   "execution_count": 4,
   "metadata": {},
   "outputs": [],
   "source": [
    "# Split the dataset into training and testing sets\n",
    "X_train, X_test, y_train, y_test = train_test_split(X, y, test_size=0.2, random_state=42)\n",
    "\n",
    "# Standardize the features\n",
    "scaler = StandardScaler()\n",
    "X_train = scaler.fit_transform(X_train)\n",
    "X_test = scaler.transform(X_test)"
   ]
  },
  {
   "cell_type": "code",
   "execution_count": 5,
   "metadata": {},
   "outputs": [],
   "source": [
    "# Initialize the models\n",
    "log_reg = LogisticRegression(max_iter=1000)\n",
    "rf = RandomForestClassifier()\n",
    "\n",
    "# Train Logistic Regression model\n",
    "log_reg.fit(X_train, y_train)\n",
    "log_reg_preds = log_reg.predict(X_test)\n",
    "\n",
    "# Train Random Forest model\n",
    "rf.fit(X_train, y_train)\n",
    "rf_preds = rf.predict(X_test)"
   ]
  },
  {
   "cell_type": "code",
   "execution_count": 6,
   "metadata": {},
   "outputs": [
    {
     "name": "stdout",
     "output_type": "stream",
     "text": [
      "Logistic Regression Accuracy: 0.9043478260869565\n",
      "Random Forest Accuracy: 0.9105590062111801\n",
      "\n",
      "Logistic Regression Classification Report:\n",
      "              precision    recall  f1-score   support\n",
      "\n",
      "           0       0.91      0.98      0.95       685\n",
      "           1       0.83      0.45      0.58       120\n",
      "\n",
      "    accuracy                           0.90       805\n",
      "   macro avg       0.87      0.72      0.76       805\n",
      "weighted avg       0.90      0.90      0.89       805\n",
      "\n",
      "\n",
      "Random Forest Classification Report:\n",
      "              precision    recall  f1-score   support\n",
      "\n",
      "           0       0.92      0.98      0.95       685\n",
      "           1       0.82      0.51      0.63       120\n",
      "\n",
      "    accuracy                           0.91       805\n",
      "   macro avg       0.87      0.74      0.79       805\n",
      "weighted avg       0.91      0.91      0.90       805\n",
      "\n"
     ]
    }
   ],
   "source": [
    "# Evaluate the models\n",
    "print(\"Logistic Regression Accuracy:\", accuracy_score(y_test, log_reg_preds))\n",
    "print(\"Random Forest Accuracy:\", accuracy_score(y_test, rf_preds))\n",
    "\n",
    "print(\"\\nLogistic Regression Classification Report:\")\n",
    "print(classification_report(y_test, log_reg_preds))\n",
    "\n",
    "print(\"\\nRandom Forest Classification Report:\")\n",
    "print(classification_report(y_test, rf_preds))"
   ]
  },
  {
   "cell_type": "code",
   "execution_count": 7,
   "metadata": {},
   "outputs": [],
   "source": [
    "from sklearn.model_selection import GridSearchCV, RandomizedSearchCV\n",
    "\n",
    "# Define hyperparameters for GridSearch\n",
    "log_reg_params = {\n",
    "    'C': [0.01, 0.1, 1, 10, 100],\n",
    "    'penalty': ['l1', 'l2']\n",
    "}\n",
    "\n",
    "rf_params = {\n",
    "    'n_estimators': [50, 100, 200],\n",
    "    'max_depth': [None, 10, 20, 30],\n",
    "    'min_samples_split': [2, 5, 10]\n",
    "}"
   ]
  },
  {
   "cell_type": "code",
   "execution_count": 8,
   "metadata": {},
   "outputs": [
    {
     "name": "stderr",
     "output_type": "stream",
     "text": [
      "c:\\Users\\balas\\AppData\\Local\\Programs\\Python\\Python311\\Lib\\site-packages\\sklearn\\model_selection\\_validation.py:547: FitFailedWarning: \n",
      "25 fits failed out of a total of 50.\n",
      "The score on these train-test partitions for these parameters will be set to nan.\n",
      "If these failures are not expected, you can try to debug them by setting error_score='raise'.\n",
      "\n",
      "Below are more details about the failures:\n",
      "--------------------------------------------------------------------------------\n",
      "25 fits failed with the following error:\n",
      "Traceback (most recent call last):\n",
      "  File \"c:\\Users\\balas\\AppData\\Local\\Programs\\Python\\Python311\\Lib\\site-packages\\sklearn\\model_selection\\_validation.py\", line 895, in _fit_and_score\n",
      "    estimator.fit(X_train, y_train, **fit_params)\n",
      "  File \"c:\\Users\\balas\\AppData\\Local\\Programs\\Python\\Python311\\Lib\\site-packages\\sklearn\\base.py\", line 1474, in wrapper\n",
      "    return fit_method(estimator, *args, **kwargs)\n",
      "           ^^^^^^^^^^^^^^^^^^^^^^^^^^^^^^^^^^^^^^\n",
      "  File \"c:\\Users\\balas\\AppData\\Local\\Programs\\Python\\Python311\\Lib\\site-packages\\sklearn\\linear_model\\_logistic.py\", line 1172, in fit\n",
      "    solver = _check_solver(self.solver, self.penalty, self.dual)\n",
      "             ^^^^^^^^^^^^^^^^^^^^^^^^^^^^^^^^^^^^^^^^^^^^^^^^^^^\n",
      "  File \"c:\\Users\\balas\\AppData\\Local\\Programs\\Python\\Python311\\Lib\\site-packages\\sklearn\\linear_model\\_logistic.py\", line 67, in _check_solver\n",
      "    raise ValueError(\n",
      "ValueError: Solver lbfgs supports only 'l2' or None penalties, got l1 penalty.\n",
      "\n",
      "  warnings.warn(some_fits_failed_message, FitFailedWarning)\n",
      "c:\\Users\\balas\\AppData\\Local\\Programs\\Python\\Python311\\Lib\\site-packages\\sklearn\\model_selection\\_search.py:1051: UserWarning: One or more of the test scores are non-finite: [       nan 0.88567661        nan 0.88909276        nan 0.89126764\n",
      "        nan 0.89126764        nan 0.89126764]\n",
      "  warnings.warn(\n"
     ]
    }
   ],
   "source": [
    "# GridSearch for Logistic Regression\n",
    "grid_log_reg = GridSearchCV(log_reg, log_reg_params, cv=5)\n",
    "grid_log_reg.fit(X_train, y_train)\n",
    "best_log_reg = grid_log_reg.best_estimator_\n",
    "\n",
    "# GridSearch for Random Forest\n",
    "grid_rf = GridSearchCV(rf, rf_params, cv=5)\n",
    "grid_rf.fit(X_train, y_train)\n",
    "best_rf = grid_rf.best_estimator_"
   ]
  },
  {
   "cell_type": "code",
   "execution_count": 9,
   "metadata": {},
   "outputs": [
    {
     "name": "stdout",
     "output_type": "stream",
     "text": [
      "Best Logistic Regression Parameters: {'C': 1, 'penalty': 'l2'}\n",
      "Best Logistic Regression Accuracy: 0.8912676410073125\n",
      "Best Random Forest Parameters: {'max_depth': 20, 'min_samples_split': 10, 'n_estimators': 100}\n",
      "Best Random Forest Accuracy: 0.9033847550785815\n"
     ]
    }
   ],
   "source": [
    "# Display best parameters and model accuracy\n",
    "print(\"Best Logistic Regression Parameters:\", grid_log_reg.best_params_)\n",
    "print(\"Best Logistic Regression Accuracy:\", grid_log_reg.best_score_)\n",
    "\n",
    "print(\"Best Random Forest Parameters:\", grid_rf.best_params_)\n",
    "print(\"Best Random Forest Accuracy:\", grid_rf.best_score_)"
   ]
  },
  {
   "cell_type": "code",
   "execution_count": 10,
   "metadata": {},
   "outputs": [
    {
     "name": "stderr",
     "output_type": "stream",
     "text": [
      "c:\\Users\\balas\\AppData\\Local\\Programs\\Python\\Python311\\Lib\\site-packages\\sklearn\\model_selection\\_validation.py:547: FitFailedWarning: \n",
      "25 fits failed out of a total of 50.\n",
      "The score on these train-test partitions for these parameters will be set to nan.\n",
      "If these failures are not expected, you can try to debug them by setting error_score='raise'.\n",
      "\n",
      "Below are more details about the failures:\n",
      "--------------------------------------------------------------------------------\n",
      "25 fits failed with the following error:\n",
      "Traceback (most recent call last):\n",
      "  File \"c:\\Users\\balas\\AppData\\Local\\Programs\\Python\\Python311\\Lib\\site-packages\\sklearn\\model_selection\\_validation.py\", line 895, in _fit_and_score\n",
      "    estimator.fit(X_train, y_train, **fit_params)\n",
      "  File \"c:\\Users\\balas\\AppData\\Local\\Programs\\Python\\Python311\\Lib\\site-packages\\sklearn\\base.py\", line 1474, in wrapper\n",
      "    return fit_method(estimator, *args, **kwargs)\n",
      "           ^^^^^^^^^^^^^^^^^^^^^^^^^^^^^^^^^^^^^^\n",
      "  File \"c:\\Users\\balas\\AppData\\Local\\Programs\\Python\\Python311\\Lib\\site-packages\\sklearn\\linear_model\\_logistic.py\", line 1172, in fit\n",
      "    solver = _check_solver(self.solver, self.penalty, self.dual)\n",
      "             ^^^^^^^^^^^^^^^^^^^^^^^^^^^^^^^^^^^^^^^^^^^^^^^^^^^\n",
      "  File \"c:\\Users\\balas\\AppData\\Local\\Programs\\Python\\Python311\\Lib\\site-packages\\sklearn\\linear_model\\_logistic.py\", line 67, in _check_solver\n",
      "    raise ValueError(\n",
      "ValueError: Solver lbfgs supports only 'l2' or None penalties, got l1 penalty.\n",
      "\n",
      "  warnings.warn(some_fits_failed_message, FitFailedWarning)\n",
      "c:\\Users\\balas\\AppData\\Local\\Programs\\Python\\Python311\\Lib\\site-packages\\sklearn\\model_selection\\_search.py:1051: UserWarning: One or more of the test scores are non-finite: [       nan 0.88567661        nan 0.88909276        nan 0.89126764\n",
      "        nan 0.89126764        nan 0.89126764]\n",
      "  warnings.warn(\n"
     ]
    }
   ],
   "source": [
    "# RandomizedSearch for Logistic Regression\n",
    "random_log_reg = RandomizedSearchCV(log_reg, log_reg_params, n_iter=10, cv=5)\n",
    "random_log_reg.fit(X_train, y_train)\n",
    "best_random_log_reg = random_log_reg.best_estimator_\n",
    "\n",
    "# RandomizedSearch for Random Forest\n",
    "random_rf = RandomizedSearchCV(rf, rf_params, n_iter=10, cv=5)\n",
    "random_rf.fit(X_train, y_train)\n",
    "best_random_rf = random_rf.best_estimator_"
   ]
  },
  {
   "cell_type": "code",
   "execution_count": 11,
   "metadata": {},
   "outputs": [
    {
     "name": "stdout",
     "output_type": "stream",
     "text": [
      "Best Randomized Logistic Regression Parameters: {'penalty': 'l2', 'C': 1}\n",
      "Best Randomized Logistic Regression Accuracy: 0.8912676410073125\n",
      "Best Randomized Random Forest Parameters: {'n_estimators': 100, 'min_samples_split': 2, 'max_depth': 20}\n",
      "Best Randomized Random Forest Accuracy: 0.9024540440288632\n"
     ]
    }
   ],
   "source": [
    "# Display best parameters and model accuracy for RandomizedSearch\n",
    "print(\"Best Randomized Logistic Regression Parameters:\", random_log_reg.best_params_)\n",
    "print(\"Best Randomized Logistic Regression Accuracy:\", random_log_reg.best_score_)\n",
    "\n",
    "print(\"Best Randomized Random Forest Parameters:\", random_rf.best_params_)\n",
    "print(\"Best Randomized Random Forest Accuracy:\", random_rf.best_score_)"
   ]
  }
 ],
 "metadata": {
  "kernelspec": {
   "display_name": "Python 3",
   "language": "python",
   "name": "python3"
  },
  "language_info": {
   "codemirror_mode": {
    "name": "ipython",
    "version": 3
   },
   "file_extension": ".py",
   "mimetype": "text/x-python",
   "name": "python",
   "nbconvert_exporter": "python",
   "pygments_lexer": "ipython3",
   "version": "3.11.5"
  }
 },
 "nbformat": 4,
 "nbformat_minor": 2
}
